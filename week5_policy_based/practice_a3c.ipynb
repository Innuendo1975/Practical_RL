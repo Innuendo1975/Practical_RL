{
 "cells": [
  {
   "cell_type": "markdown",
   "metadata": {},
   "source": [
    "### Deep Kung-Fu with advantage actor-critic\n",
    "\n",
    "In this notebook you'll build a deep reinforcement learning agent for atari [KungFuMaster](https://gym.openai.com/envs/KungFuMaster-v0/) and train it with advantage actor-critic.\n",
    "\n",
    "![http://www.retroland.com/wp-content/uploads/2011/07/King-Fu-Master.jpg](http://www.retroland.com/wp-content/uploads/2011/07/King-Fu-Master.jpg)"
   ]
  },
  {
   "cell_type": "code",
   "execution_count": 1,
   "metadata": {
    "collapsed": true
   },
   "outputs": [],
   "source": [
    "from __future__ import print_function, division\n",
    "from IPython.core import display\n",
    "import matplotlib.pyplot as plt\n",
    "%matplotlib inline\n",
    "import numpy as np\n",
    "\n",
    "#If you are running on a server, launch xvfb to record game videos\n",
    "#Please make sure you have xvfb installed\n",
    "import os\n",
    "if os.environ.get(\"DISPLAY\") is str and len(os.environ.get(\"DISPLAY\"))!=0:\n",
    "    !bash ../xvfb start\n",
    "    %env DISPLAY=:1"
   ]
  },
  {
   "cell_type": "markdown",
   "metadata": {},
   "source": [
    "For starters, let's take a look at the game itself:\n",
    "* Image resized to 42x42 and grayscale to run faster\n",
    "* Rewards divided by 100 'cuz they are all divisible by 100\n",
    "* Agent sees last 4 frames of game to account for object velocity"
   ]
  },
  {
   "cell_type": "code",
   "execution_count": 2,
   "metadata": {},
   "outputs": [
    {
     "name": "stdout",
     "output_type": "stream",
     "text": [
      "Observation shape: (42, 42, 4)\n",
      "Num actions: 14\n",
      "Action names: ['NOOP', 'UP', 'RIGHT', 'LEFT', 'DOWN', 'DOWNRIGHT', 'DOWNLEFT', 'RIGHTFIRE', 'LEFTFIRE', 'DOWNFIRE', 'UPRIGHTFIRE', 'UPLEFTFIRE', 'DOWNRIGHTFIRE', 'DOWNLEFTFIRE']\n"
     ]
    },
    {
     "name": "stderr",
     "output_type": "stream",
     "text": [
      "/home/ivan/anaconda3/lib/python3.6/site-packages/gym/logger.py:30: UserWarning: \u001b[33mWARN: gym.spaces.Box autodetected dtype as <class 'numpy.float32'>. Please provide explicit dtype.\u001b[0m\n",
      "  warnings.warn(colorize('%s: %s'%('WARN', msg % args), 'yellow'))\n"
     ]
    }
   ],
   "source": [
    "import gym\n",
    "from atari_util import PreprocessAtari\n",
    "\n",
    "# We scale rewards to avoid exploding gradients during optimization.\n",
    "reward_scale = 0.01\n",
    "\n",
    "def make_env():\n",
    "    env = gym.make(\"KungFuMasterDeterministic-v0\")\n",
    "    env = PreprocessAtari(\n",
    "        env, height=42, width=42,\n",
    "        crop=lambda img: img[60:-30, 5:],\n",
    "        dim_order='tensorflow',\n",
    "        color=False, n_frames=4,\n",
    "        reward_scale=reward_scale)\n",
    "    return env\n",
    "\n",
    "env = make_env()\n",
    "\n",
    "obs_shape = env.observation_space.shape\n",
    "n_actions = env.action_space.n\n",
    "\n",
    "print(\"Observation shape:\", obs_shape)\n",
    "print(\"Num actions:\", n_actions)\n",
    "print(\"Action names:\", env.env.env.get_action_meanings())"
   ]
  },
  {
   "cell_type": "code",
   "execution_count": 3,
   "metadata": {},
   "outputs": [
    {
     "data": {
      "image/png": "[encoded data removed]",
      "text/plain": [
       "<Figure size 432x288 with 1 Axes>"
      ]
     },
     "metadata": {
      "needs_background": "light"
     },
     "output_type": "display_data"
    },
    {
     "data": {
      "image/png": "[encoded data removed]",
      "text/plain": [
       "<Figure size 432x288 with 1 Axes>"
      ]
     },
     "metadata": {
      "needs_background": "light"
     },
     "output_type": "display_data"
    }
   ],
   "source": [
    "s = env.reset()\n",
    "for _ in range(100):\n",
    "    s, _, _, _ = env.step(env.action_space.sample())\n",
    "\n",
    "plt.title('Game image')\n",
    "plt.imshow(env.render('rgb_array'))\n",
    "plt.show()\n",
    "\n",
    "plt.title('Agent observation (4-frame buffer)')\n",
    "plt.imshow(s.transpose([0,2,1]).reshape([42,-1]))\n",
    "plt.show()"
   ]
  },
  {
   "cell_type": "markdown",
   "metadata": {},
   "source": [
    "### Build an agent\n",
    "\n",
    "We now have to build an agent for actor-critic training - a convolutional neural network that converts states into action probabilities $\\pi$ and state values $V$.\n",
    "\n",
    "Your assignment here is to build and apply a neural network - with any framework you want. \n",
    "\n",
    "For starters, we want you to implement this architecture:\n",
    "![nnet_arch.png](nnet_arch.png)\n",
    "\n",
    "After your agent gets mean reward above 50, we encourage you to experiment with model architecture to score even better."
   ]
  },
  {
   "cell_type": "code",
   "execution_count": 4,
   "metadata": {
    "collapsed": true
   },
   "outputs": [],
   "source": [
    "import tensorflow as tf\n",
    "tf.reset_default_graph()\n",
    "sess = tf.InteractiveSession()"
   ]
  },
  {
   "cell_type": "code",
   "execution_count": 29,
   "metadata": {},
   "outputs": [],
   "source": [
    "from keras.models import Sequential, Model\n",
    "from keras.layers import Conv2D, Dense, Flatten, InputLayer, Input\n",
    "\n",
    "class Agent:\n",
    "    def __init__(self, name, state_shape, n_actions, reuse=False):\n",
    "        \"\"\"A simple actor-critic agent\"\"\"\n",
    "        \n",
    "        with tf.variable_scope(name, reuse=reuse):\n",
    "            \n",
    "            # Prepare neural network architecture\n",
    "            ### Your code here: prepare any necessary layers, variables, etc.\n",
    "            inp = Input(state_shape)\n",
    "            conv1 = Conv2D(32, kernel_size=(3, 3), strides=2, activation='elu')(inp)\n",
    "            conv2 = Conv2D(32, kernel_size=(3, 3), strides=2, activation='elu')(conv1)\n",
    "            conv3 = Conv2D(32, kernel_size=(3, 3), strides=2, activation='elu')(conv2)\n",
    "            flatten = Flatten()(conv3)\n",
    "            logits = Dense(n_actions, activation='linear')(flatten)\n",
    "            state_value = Dense(1, activation='linear')(flatten)            \n",
    "            self.model = Model(inputs=inp, outputs=[logits, state_value])\n",
    "            \n",
    "            # prepare a graph for agent step\n",
    "            self.state_t = tf.placeholder('float32', [None,] + list(state_shape))\n",
    "            self.agent_outputs = self.symbolic_step(self.state_t)\n",
    "        \n",
    "    def symbolic_step(self, state_t):\n",
    "        \"\"\"Takes agent's previous step and observation, returns next state and whatever it needs to learn (tf tensors)\"\"\"\n",
    "        \n",
    "        # Apply neural network\n",
    "        ### Your code here: apply agent's neural network to get policy logits and state values.\n",
    "        \n",
    "        logits, state_value = self.model(state_t)\n",
    "        state_value = state_value[:, 0]\n",
    "        \n",
    "        assert tf.is_numeric_tensor(state_value) and state_value.shape.ndims == 1, \\\n",
    "            \"please return 1D tf tensor of state values [you got %s]\" % repr(state_value)\n",
    "        assert tf.is_numeric_tensor(logits) and logits.shape.ndims == 2, \\\n",
    "            \"please return 2d tf tensor of logits [you got %s]\" % repr(logits)\n",
    "        # hint: if you triggered state_values assert with your shape being [None, 1], \n",
    "        # just select [:, 0]-th element of state values as new state values\n",
    "        \n",
    "        return (logits, state_value)\n",
    "    \n",
    "    def step(self, state_t):\n",
    "        \"\"\"Same as symbolic step except it operates on numpy arrays\"\"\"\n",
    "        sess = tf.get_default_session()\n",
    "        return sess.run(self.agent_outputs, {self.state_t: state_t})\n",
    "    \n",
    "    def sample_actions(self, agent_outputs):\n",
    "        \"\"\"pick actions given numeric agent outputs (np arrays)\"\"\"\n",
    "        logits, state_values = agent_outputs\n",
    "        policy = np.exp(logits) / np.sum(np.exp(logits), axis=-1, keepdims=True)\n",
    "        return np.array([np.random.choice(len(p), p=p) for p in policy])"
   ]
  },
  {
   "cell_type": "code",
   "execution_count": 30,
   "metadata": {},
   "outputs": [],
   "source": [
    "agent = Agent(\"agent\", obs_shape, n_actions)\n",
    "sess.run(tf.global_variables_initializer())"
   ]
  },
  {
   "cell_type": "code",
   "execution_count": 36,
   "metadata": {},
   "outputs": [
    {
     "name": "stdout",
     "output_type": "stream",
     "text": [
      "action logits:\n",
      " [[-0.15085506 -0.43282685  0.18142244  0.01773793 -0.2569729  -0.10725288\n",
      "   0.13209614  0.24696785  0.04068143  0.04992627 -0.11487724  0.07048404\n",
      "   0.06884082 -0.22071323]]\n",
      "state values:\n",
      " [0.10170478]\n"
     ]
    }
   ],
   "source": [
    "state = [env.reset()]\n",
    "logits, value = agent.step(state)\n",
    "print(\"action logits:\\n\", logits)\n",
    "print(\"state values:\\n\", value)"
   ]
  },
  {
   "cell_type": "markdown",
   "metadata": {},
   "source": [
    "### Let's play!\n",
    "Let's build a function that measures agent's average reward."
   ]
  },
  {
   "cell_type": "code",
   "execution_count": 37,
   "metadata": {
    "collapsed": true
   },
   "outputs": [],
   "source": [
    "def evaluate(agent, env, n_games=1):\n",
    "    \"\"\"Plays an a game from start till done, returns per-game rewards \"\"\"\n",
    "\n",
    "    game_rewards = []\n",
    "    for _ in range(n_games):\n",
    "        state = env.reset()\n",
    "\n",
    "        total_reward = 0\n",
    "        while True:\n",
    "            action = agent.sample_actions(agent.step([state]))[0]\n",
    "            state, reward, done, info = env.step(action)\n",
    "            total_reward += reward\n",
    "            if done: break\n",
    "\n",
    "        # We rescale the reward back to ensure compatibility\n",
    "        # with other evaluations.\n",
    "        game_rewards.append(total_reward / reward_scale)\n",
    "    return game_rewards"
   ]
  },
  {
   "cell_type": "code",
   "execution_count": 38,
   "metadata": {},
   "outputs": [
    {
     "name": "stdout",
     "output_type": "stream",
     "text": [
      "[300.0, 700.0, 700.0]\n"
     ]
    }
   ],
   "source": [
    "env_monitor = gym.wrappers.Monitor(env, directory=\"kungfu_videos\", force=True)\n",
    "rw = evaluate(agent, env_monitor, n_games=3,)\n",
    "env_monitor.close()\n",
    "print (rw)"
   ]
  },
  {
   "cell_type": "code",
   "execution_count": 39,
   "metadata": {},
   "outputs": [
    {
     "data": {
      "text/html": [
       "\n",
       "<video width=\"640\" height=\"480\" controls>\n",
       "  <source src=\"./kungfu_videos/openaigym.video.0.26706.video000001.mp4\" type=\"video/mp4\">\n",
       "</video>\n"
      ],
      "text/plain": [
       "<IPython.core.display.HTML object>"
      ]
     },
     "execution_count": 39,
     "metadata": {},
     "output_type": "execute_result"
    }
   ],
   "source": [
    "#show video\n",
    "import os\n",
    "\n",
    "from IPython.display import HTML\n",
    "\n",
    "video_names = [s for s in os.listdir(\"./kungfu_videos/\") if s.endswith(\".mp4\")]\n",
    "\n",
    "HTML(\"\"\"\n",
    "<video width=\"640\" height=\"480\" controls>\n",
    "  <source src=\"{}\" type=\"video/mp4\">\n",
    "</video>\n",
    "\"\"\".format(\"./kungfu_videos/\" + video_names[-1]))  #this may or may not be _last_ video. Try other indices"
   ]
  },
  {
   "cell_type": "markdown",
   "metadata": {},
   "source": [
    "### Training on parallel games\n",
    "![img](env_pool.png)\n",
    "\n",
    "To make actor-critic training more stable, we shall play several games in parallel. This means ya'll have to initialize several parallel gym envs, send agent's actions there and .reset() each env if it becomes terminated. To minimize learner brain damage, we've taken care of them for ya - just make sure you read it before you use it.\n"
   ]
  },
  {
   "cell_type": "code",
   "execution_count": 40,
   "metadata": {
    "collapsed": true
   },
   "outputs": [],
   "source": [
    "class EnvBatch:\n",
    "    def __init__(self, n_envs = 10):\n",
    "        \"\"\" Creates n_envs environments and babysits them for ya' \"\"\"\n",
    "        self.envs = [make_env() for _ in range(n_envs)]\n",
    "        \n",
    "    def reset(self):\n",
    "        \"\"\" Reset all games and return [n_envs, *obs_shape] observations \"\"\"\n",
    "        return np.array([env.reset() for env in self.envs])\n",
    "    \n",
    "    def step(self, actions):\n",
    "        \"\"\"\n",
    "        Send a vector[batch_size] of actions into respective environments\n",
    "        :returns: observations[n_envs, *obs_shape], rewards[n_envs], done[n_envs,], info[n_envs]\n",
    "        \"\"\"\n",
    "        results = [env.step(a) for env, a in zip(self.envs, actions)]\n",
    "        new_obs, rewards, done, infos = map(np.array, zip(*results))\n",
    "        \n",
    "        # reset environments automatically\n",
    "        for i in range(len(self.envs)):\n",
    "            if done[i]:\n",
    "                new_obs[i] = self.envs[i].reset()\n",
    "        \n",
    "        return new_obs, rewards, done, infos"
   ]
  },
  {
   "cell_type": "markdown",
   "metadata": {},
   "source": [
    "__Let's try it out:__"
   ]
  },
  {
   "cell_type": "code",
   "execution_count": 41,
   "metadata": {},
   "outputs": [
    {
     "name": "stderr",
     "output_type": "stream",
     "text": [
      "/home/ivan/anaconda3/lib/python3.6/site-packages/gym/logger.py:30: UserWarning: \u001b[33mWARN: gym.spaces.Box autodetected dtype as <class 'numpy.float32'>. Please provide explicit dtype.\u001b[0m\n",
      "  warnings.warn(colorize('%s: %s'%('WARN', msg % args), 'yellow'))\n"
     ]
    },
    {
     "name": "stdout",
     "output_type": "stream",
     "text": [
      "State shape: (10, 42, 42, 4)\n",
      "Actions: [ 1 12  1]\n",
      "Rewards: [0. 0. 0.]\n",
      "Done: [False False False]\n"
     ]
    }
   ],
   "source": [
    "env_batch = EnvBatch(10)\n",
    "\n",
    "batch_states = env_batch.reset()\n",
    "\n",
    "batch_actions = agent.sample_actions(agent.step(batch_states))\n",
    "\n",
    "batch_next_states, batch_rewards, batch_done, _ = env_batch.step(batch_actions)\n",
    "\n",
    "print(\"State shape:\", batch_states.shape)\n",
    "print(\"Actions:\", batch_actions[:3])\n",
    "print(\"Rewards:\", batch_rewards[:3])\n",
    "print(\"Done:\", batch_done[:3])"
   ]
  },
  {
   "cell_type": "markdown",
   "metadata": {},
   "source": [
    "# Actor-critic\n",
    "\n",
    "Here we define a loss functions and learning algorithms as usual."
   ]
  },
  {
   "cell_type": "code",
   "execution_count": 42,
   "metadata": {
    "collapsed": true
   },
   "outputs": [],
   "source": [
    "# These placeholders mean exactly the same as in \"Let's try it out\" section above\n",
    "states_ph = tf.placeholder('float32', [None,] + list(obs_shape))    \n",
    "next_states_ph = tf.placeholder('float32', [None,] + list(obs_shape))\n",
    "actions_ph = tf.placeholder('int32', (None,))\n",
    "rewards_ph = tf.placeholder('float32', (None,))\n",
    "is_done_ph = tf.placeholder('float32', (None,))"
   ]
  },
  {
   "cell_type": "code",
   "execution_count": 49,
   "metadata": {
    "collapsed": true
   },
   "outputs": [],
   "source": [
    "# logits[n_envs, n_actions] and state_values[n_envs, n_actions]\n",
    "logits, state_values = agent.symbolic_step(states_ph)\n",
    "next_logits, next_state_values = agent.symbolic_step(next_states_ph)\n",
    "next_state_values = next_state_values * (1 - is_done_ph)\n",
    "\n",
    "# probabilities and log-probabilities for all actions\n",
    "probs = tf.nn.softmax(logits)            # [n_envs, n_actions]\n",
    "logprobs = tf.nn.log_softmax(logits)     # [n_envs, n_actions]\n",
    "\n",
    "# log-probabilities only for agent's chosen actions\n",
    "logp_actions = tf.reduce_sum(logprobs * tf.one_hot(actions_ph, n_actions), axis=-1) # [n_envs,]"
   ]
  },
  {
   "cell_type": "code",
   "execution_count": 55,
   "metadata": {},
   "outputs": [],
   "source": [
    "\n",
    "\n",
    "# compute advantage using rewards_ph, state_values and next_state_values\n",
    "gamma = 0.99\n",
    "advantage = rewards_ph + gamma * next_state_values - state_values\n",
    "\n",
    "assert advantage.shape.ndims == 1, \"please compute advantage for each sample, vector of shape [n_envs,]\"\n",
    "\n",
    "# compute policy entropy given logits_seq. Mind the \"-\" sign!\n",
    "entropy = -tf.reduce_sum(probs * logprobs, 1)\n",
    "\n",
    "assert entropy.shape.ndims == 1, \"please compute pointwise entropy vector of shape [n_envs,] \"\n",
    "\n",
    "\n",
    "\n",
    "actor_loss =  - tf.reduce_mean(logp_actions * tf.stop_gradient(advantage)) - 0.001 * tf.reduce_mean(entropy)\n",
    "\n",
    "# compute target state values using temporal difference formula. Use rewards_ph and next_step_values\n",
    "target_state_values = rewards_ph + gamma * next_state_values\n",
    "\n",
    "critic_loss = tf.reduce_mean((state_values - tf.stop_gradient(target_state_values))**2 )\n",
    "\n",
    "train_step = tf.train.AdamOptimizer(1e-4).minimize(actor_loss + critic_loss)\n",
    "sess.run(tf.global_variables_initializer())"
   ]
  },
  {
   "cell_type": "code",
   "execution_count": 56,
   "metadata": {},
   "outputs": [
    {
     "name": "stdout",
     "output_type": "stream",
     "text": [
      "You just might be fine!\n"
     ]
    }
   ],
   "source": [
    "# Sanity checks to catch some errors. Specific to KungFuMaster in assignment's default setup.\n",
    "l_act, l_crit, adv, ent = sess.run([actor_loss, critic_loss, advantage, entropy], feed_dict = {\n",
    "        states_ph: batch_states,\n",
    "        actions_ph: batch_actions,\n",
    "        next_states_ph: batch_states,\n",
    "        rewards_ph: batch_rewards,\n",
    "        is_done_ph: batch_done,\n",
    "    })\n",
    "\n",
    "assert abs(l_act) < 100 and abs(l_crit) < 100, \"losses seem abnormally large\"\n",
    "assert 0 <= ent.mean() <= np.log(n_actions), \"impossible entropy value, double-check the formula pls\"\n",
    "if ent.mean() < np.log(n_actions) / 2: print(\"Entropy is too low for untrained agent\")\n",
    "print(\"You just might be fine!\")"
   ]
  },
  {
   "cell_type": "markdown",
   "metadata": {},
   "source": [
    "# Train \n",
    "\n",
    "Just the usual - play a bit, compute loss, follow the graidents, repeat a few million times.\n",
    "![img](http://images6.fanpop.com/image/photos/38900000/Daniel-san-training-the-karate-kid-38947361-499-288.gif)"
   ]
  },
  {
   "cell_type": "code",
   "execution_count": 57,
   "metadata": {
    "collapsed": true
   },
   "outputs": [],
   "source": [
    "from IPython.display import clear_output\n",
    "from tqdm import trange\n",
    "from pandas import DataFrame\n",
    "ewma = lambda x, span=100: DataFrame({'x':np.asarray(x)}).x.ewm(span=span).mean().values\n",
    "\n",
    "env_batch = EnvBatch(10)\n",
    "batch_states = env_batch.reset()\n",
    "\n",
    "rewards_history = []\n",
    "entropy_history = []"
   ]
  },
  {
   "cell_type": "code",
   "execution_count": null,
   "metadata": {
    "scrolled": true
   },
   "outputs": [
    {
     "data": {
      "image/png": "[encoded data removed]",
      "text/plain": [
       "<Figure size 576x288 with 2 Axes>"
      ]
     },
     "metadata": {
      "needs_background": "light"
     },
     "output_type": "display_data"
    },
    {
     "name": "stderr",
     "output_type": "stream",
     "text": [
      "\n",
      "  4%|▍         | 4001/100000 [07:14<4:06:23,  6.49it/s]\u001b[A\n",
      "  4%|▍         | 4002/100000 [07:14<3:45:25,  7.10it/s]\u001b[A\n",
      "  4%|▍         | 4003/100000 [07:15<3:52:46,  6.87it/s]\u001b[A\n",
      "  4%|▍         | 4004/100000 [07:15<3:39:35,  7.29it/s]\u001b[A\n",
      "  4%|▍         | 4006/100000 [07:15<3:06:52,  8.56it/s]\u001b[A\n",
      "  4%|▍         | 4008/100000 [07:15<3:02:58,  8.74it/s]\u001b[A\n",
      "  4%|▍         | 4009/100000 [07:15<3:12:04,  8.33it/s]\u001b[A\n",
      "  4%|▍         | 4010/100000 [07:15<4:06:21,  6.49it/s]\u001b[A\n",
      "  4%|▍         | 4011/100000 [07:16<3:56:02,  6.78it/s]\u001b[A\n",
      "  4%|▍         | 4012/100000 [07:16<4:16:07,  6.25it/s]\u001b[A\n",
      "  4%|▍         | 4013/100000 [07:16<4:24:04,  6.06it/s]\u001b[A\n",
      "  4%|▍         | 4014/100000 [07:16<4:13:53,  6.30it/s]\u001b[A\n",
      "  4%|▍         | 4015/100000 [07:16<3:50:42,  6.93it/s]\u001b[A\n",
      "  4%|▍         | 4016/100000 [07:16<3:38:42,  7.31it/s]\u001b[A\n",
      "  4%|▍         | 4017/100000 [07:16<3:32:09,  7.54it/s]\u001b[A\n",
      "  4%|▍         | 4019/100000 [07:17<3:04:13,  8.68it/s]\u001b[A\n",
      "  4%|▍         | 4020/100000 [07:17<3:01:32,  8.81it/s]\u001b[A\n",
      "  4%|▍         | 4021/100000 [07:17<3:00:11,  8.88it/s]\u001b[A\n",
      "  4%|▍         | 4022/100000 [07:17<3:00:21,  8.87it/s]\u001b[A\n",
      "  4%|▍         | 4024/100000 [07:17<2:39:31, 10.03it/s]\u001b[A\n",
      "  4%|▍         | 4026/100000 [07:17<2:45:31,  9.66it/s]\u001b[A\n",
      "  4%|▍         | 4028/100000 [07:18<3:07:54,  8.51it/s]\u001b[A\n",
      "  4%|▍         | 4029/100000 [07:18<3:32:41,  7.52it/s]\u001b[A\n",
      "  4%|▍         | 4030/100000 [07:18<3:57:16,  6.74it/s]\u001b[A\n",
      "  4%|▍         | 4031/100000 [07:18<4:13:05,  6.32it/s]\u001b[A\n",
      "  4%|▍         | 4032/100000 [07:18<4:12:07,  6.34it/s]\u001b[A\n",
      "  4%|▍         | 4033/100000 [07:18<4:10:57,  6.37it/s]\u001b[A\n",
      "  4%|▍         | 4034/100000 [07:19<4:00:12,  6.66it/s]\u001b[A\n",
      "  4%|▍         | 4035/100000 [07:19<4:05:32,  6.51it/s]\u001b[A\n",
      "  4%|▍         | 4036/100000 [07:19<4:10:29,  6.38it/s]\u001b[A\n",
      "  4%|▍         | 4037/100000 [07:19<3:51:32,  6.91it/s]\u001b[A\n",
      "  4%|▍         | 4038/100000 [07:19<3:57:40,  6.73it/s]\u001b[A\n",
      "  4%|▍         | 4039/100000 [07:19<3:39:13,  7.30it/s]\u001b[A\n",
      "  4%|▍         | 4040/100000 [07:20<4:30:49,  5.91it/s]\u001b[A\n",
      "  4%|▍         | 4041/100000 [07:20<4:10:06,  6.39it/s]\u001b[A\n",
      "  4%|▍         | 4042/100000 [07:20<4:21:09,  6.12it/s]\u001b[A\n",
      "  4%|▍         | 4043/100000 [07:20<3:51:38,  6.90it/s]\u001b[A\n",
      "  4%|▍         | 4044/100000 [07:20<3:40:14,  7.26it/s]\u001b[A\n",
      "  4%|▍         | 4045/100000 [07:20<3:25:17,  7.79it/s]\u001b[A\n",
      "  4%|▍         | 4046/100000 [07:20<3:16:04,  8.16it/s]\u001b[A\n",
      "  4%|▍         | 4048/100000 [07:20<2:51:58,  9.30it/s]\u001b[A\n",
      "  4%|▍         | 4050/100000 [07:21<2:40:42,  9.95it/s]\u001b[A\n",
      "  4%|▍         | 4052/100000 [07:21<2:53:00,  9.24it/s]\u001b[A\n",
      "  4%|▍         | 4053/100000 [07:21<3:12:40,  8.30it/s]\u001b[A\n",
      "  4%|▍         | 4054/100000 [07:21<4:06:55,  6.48it/s]\u001b[A\n",
      "  4%|▍         | 4055/100000 [07:21<4:09:54,  6.40it/s]\u001b[A\n",
      "  4%|▍         | 4056/100000 [07:21<3:49:30,  6.97it/s]\u001b[A\n",
      "  4%|▍         | 4058/100000 [07:22<3:47:52,  7.02it/s]\u001b[A\n",
      "  4%|▍         | 4059/100000 [07:22<3:57:44,  6.73it/s]\u001b[A\n",
      "  4%|▍         | 4060/100000 [07:22<3:46:56,  7.05it/s]\u001b[A\n",
      "  4%|▍         | 4061/100000 [07:22<3:51:49,  6.90it/s]\u001b[A\n",
      "  4%|▍         | 4062/100000 [07:22<3:47:03,  7.04it/s]\u001b[A\n",
      "  4%|▍         | 4063/100000 [07:23<3:46:54,  7.05it/s]\u001b[A\n",
      "  4%|▍         | 4064/100000 [07:23<3:47:55,  7.02it/s]\u001b[A\n",
      "  4%|▍         | 4065/100000 [07:23<3:38:25,  7.32it/s]\u001b[A\n",
      "  4%|▍         | 4066/100000 [07:23<3:33:08,  7.50it/s]\u001b[A\n",
      "  4%|▍         | 4067/100000 [07:23<3:34:18,  7.46it/s]\u001b[A\n",
      "  4%|▍         | 4068/100000 [07:23<3:28:03,  7.68it/s]\u001b[A\n",
      "  4%|▍         | 4069/100000 [07:23<3:21:09,  7.95it/s]\u001b[A\n",
      "  4%|▍         | 4070/100000 [07:23<3:25:16,  7.79it/s]\u001b[A\n",
      "  4%|▍         | 4071/100000 [07:24<3:22:34,  7.89it/s]\u001b[A\n",
      "  4%|▍         | 4072/100000 [07:24<3:24:52,  7.80it/s]\u001b[A\n",
      "  4%|▍         | 4073/100000 [07:24<3:25:41,  7.77it/s]\u001b[A\n",
      "  4%|▍         | 4074/100000 [07:24<3:31:36,  7.56it/s]\u001b[A\n",
      "  4%|▍         | 4075/100000 [07:24<3:38:50,  7.31it/s]\u001b[A\n",
      "  4%|▍         | 4076/100000 [07:24<3:24:24,  7.82it/s]\u001b[A\n",
      "  4%|▍         | 4077/100000 [07:24<3:29:25,  7.63it/s]\u001b[A\n",
      "  4%|▍         | 4078/100000 [07:24<3:27:47,  7.69it/s]\u001b[A\n",
      "  4%|▍         | 4079/100000 [07:25<3:44:48,  7.11it/s]\u001b[A\n",
      "  4%|▍         | 4080/100000 [07:25<4:12:46,  6.32it/s]\u001b[A\n",
      "  4%|▍         | 4081/100000 [07:25<3:47:36,  7.02it/s]\u001b[A\n",
      "  4%|▍         | 4082/100000 [07:25<3:30:27,  7.60it/s]\u001b[A\n",
      "  4%|▍         | 4083/100000 [07:25<3:26:01,  7.76it/s]\u001b[A\n",
      "  4%|▍         | 4084/100000 [07:25<3:23:38,  7.85it/s]\u001b[A\n",
      "  4%|▍         | 4085/100000 [07:25<3:17:54,  8.08it/s]\u001b[A\n",
      "  4%|▍         | 4086/100000 [07:26<3:10:10,  8.41it/s]\u001b[A\n",
      "  4%|▍         | 4087/100000 [07:26<3:37:12,  7.36it/s]\u001b[A\n",
      "  4%|▍         | 4088/100000 [07:26<3:36:17,  7.39it/s]\u001b[A\n",
      "  4%|▍         | 4089/100000 [07:26<3:30:38,  7.59it/s]\u001b[A\n",
      "  4%|▍         | 4090/100000 [07:26<3:28:07,  7.68it/s]\u001b[A\n",
      "  4%|▍         | 4091/100000 [07:26<3:23:51,  7.84it/s]\u001b[A\n",
      "  4%|▍         | 4092/100000 [07:26<3:11:39,  8.34it/s]\u001b[A\n",
      "  4%|▍         | 4094/100000 [07:26<2:56:13,  9.07it/s]\u001b[A\n",
      "  4%|▍         | 4095/100000 [07:27<2:59:16,  8.92it/s]\u001b[A\n",
      "  4%|▍         | 4096/100000 [07:27<3:06:30,  8.57it/s]\u001b[A\n",
      "  4%|▍         | 4097/100000 [07:27<3:13:04,  8.28it/s]\u001b[A\n",
      "  4%|▍         | 4098/100000 [07:27<3:20:12,  7.98it/s]\u001b[A\n",
      "  4%|▍         | 4099/100000 [07:27<3:19:25,  8.01it/s]\u001b[A\n",
      "  4%|▍         | 4100/100000 [07:27<3:16:32,  8.13it/s]\u001b[A\n",
      "  4%|▍         | 4101/100000 [07:27<3:19:09,  8.03it/s]\u001b[A\n",
      "  4%|▍         | 4102/100000 [07:27<3:13:40,  8.25it/s]\u001b[A\n",
      "  4%|▍         | 4104/100000 [07:28<2:51:07,  9.34it/s]\u001b[A\n",
      "  4%|▍         | 4106/100000 [07:28<2:33:43, 10.40it/s]\u001b[A\n",
      "  4%|▍         | 4108/100000 [07:28<2:29:16, 10.71it/s]\u001b[A\n",
      "  4%|▍         | 4110/100000 [07:28<2:31:59, 10.51it/s]\u001b[A\n",
      "  4%|▍         | 4112/100000 [07:28<2:30:57, 10.59it/s]\u001b[A\n",
      "  4%|▍         | 4114/100000 [07:28<2:33:04, 10.44it/s]\u001b[A\n",
      "  4%|▍         | 4116/100000 [07:29<2:34:27, 10.35it/s]\u001b[A\n",
      "  4%|▍         | 4118/100000 [07:29<2:36:36, 10.20it/s]\u001b[A\n",
      "  4%|▍         | 4120/100000 [07:29<2:30:25, 10.62it/s]\u001b[A\n",
      "  4%|▍         | 4122/100000 [07:29<2:23:08, 11.16it/s]\u001b[A\n",
      "  4%|▍         | 4124/100000 [07:29<2:46:53,  9.57it/s]\u001b[A\n",
      "  4%|▍         | 4126/100000 [07:30<2:36:47, 10.19it/s]\u001b[A\n",
      "  4%|▍         | 4128/100000 [07:30<2:47:50,  9.52it/s]\u001b[A\n",
      "  4%|▍         | 4129/100000 [07:30<3:03:12,  8.72it/s]\u001b[A\n",
      "  4%|▍         | 4131/100000 [07:30<2:41:34,  9.89it/s]\u001b[A\n",
      "  4%|▍         | 4133/100000 [07:30<2:30:40, 10.60it/s]\u001b[A\n",
      "  4%|▍         | 4135/100000 [07:30<2:22:18, 11.23it/s]\u001b[A\n",
      "  4%|▍         | 4137/100000 [07:31<2:35:15, 10.29it/s]\u001b[A\n",
      "  4%|▍         | 4139/100000 [07:31<2:56:17,  9.06it/s]\u001b[A\n",
      "  4%|▍         | 4140/100000 [07:31<3:27:40,  7.69it/s]\u001b[A\n",
      "  4%|▍         | 4141/100000 [07:31<3:19:08,  8.02it/s]\u001b[A\n",
      "  4%|▍         | 4142/100000 [07:32<4:12:24,  6.33it/s]\u001b[A\n",
      "  4%|▍         | 4144/100000 [07:32<3:33:11,  7.49it/s]\u001b[A\n",
      "  4%|▍         | 4145/100000 [07:32<3:23:02,  7.87it/s]\u001b[A\n",
      "  4%|▍         | 4146/100000 [07:32<3:13:40,  8.25it/s]\u001b[A\n",
      "  4%|▍         | 4147/100000 [07:32<3:47:00,  7.04it/s]\u001b[A\n",
      "  4%|▍         | 4148/100000 [07:32<3:43:43,  7.14it/s]\u001b[A\n",
      "  4%|▍         | 4149/100000 [07:32<3:56:47,  6.75it/s]\u001b[A\n",
      "  4%|▍         | 4150/100000 [07:33<4:39:56,  5.71it/s]\u001b[A\n",
      "  4%|▍         | 4151/100000 [07:33<4:14:12,  6.28it/s]\u001b[A\n",
      "  4%|▍         | 4152/100000 [07:33<4:11:35,  6.35it/s]\u001b[A\n",
      "  4%|▍         | 4153/100000 [07:33<4:14:43,  6.27it/s]\u001b[A\n",
      "  4%|▍         | 4154/100000 [07:33<3:47:28,  7.02it/s]\u001b[A\n",
      "  4%|▍         | 4155/100000 [07:33<3:32:41,  7.51it/s]\u001b[A\n",
      "  4%|▍         | 4156/100000 [07:34<5:05:26,  5.23it/s]\u001b[A\n",
      "  4%|▍         | 4157/100000 [07:34<5:05:50,  5.22it/s]\u001b[A\n",
      "  4%|▍         | 4158/100000 [07:34<4:27:11,  5.98it/s]\u001b[A\n",
      "  4%|▍         | 4159/100000 [07:34<4:04:26,  6.53it/s]\u001b[A\n",
      "  4%|▍         | 4160/100000 [07:34<3:51:06,  6.91it/s]\u001b[A\n",
      "  4%|▍         | 4161/100000 [07:34<3:48:22,  6.99it/s]\u001b[A\n",
      "  4%|▍         | 4162/100000 [07:34<3:56:49,  6.74it/s]\u001b[A\n",
      "  4%|▍         | 4163/100000 [07:35<3:44:28,  7.12it/s]\u001b[A\n",
      "  4%|▍         | 4165/100000 [07:35<3:12:39,  8.29it/s]\u001b[A\n",
      "  4%|▍         | 4167/100000 [07:35<2:52:30,  9.26it/s]\u001b[A\n",
      "  4%|▍         | 4169/100000 [07:35<2:45:59,  9.62it/s]\u001b[A\n",
      "  4%|▍         | 4171/100000 [07:35<2:57:19,  9.01it/s]\u001b[A\n",
      "  4%|▍         | 4172/100000 [07:35<3:06:49,  8.55it/s]\u001b[A\n"
     ]
    },
    {
     "name": "stderr",
     "output_type": "stream",
     "text": [
      "  4%|▍         | 4173/100000 [07:36<3:22:43,  7.88it/s]\u001b[A\n",
      "  4%|▍         | 4174/100000 [07:36<3:19:01,  8.02it/s]\u001b[A\n",
      "  4%|▍         | 4175/100000 [07:36<3:18:21,  8.05it/s]\u001b[A\n",
      "  4%|▍         | 4176/100000 [07:36<3:15:08,  8.18it/s]\u001b[A\n",
      "  4%|▍         | 4177/100000 [07:36<3:28:42,  7.65it/s]\u001b[A\n",
      "  4%|▍         | 4178/100000 [07:36<3:29:59,  7.61it/s]\u001b[A\n",
      "  4%|▍         | 4179/100000 [07:36<3:37:51,  7.33it/s]\u001b[A\n",
      "  4%|▍         | 4180/100000 [07:37<3:32:01,  7.53it/s]\u001b[A\n",
      "  4%|▍         | 4182/100000 [07:37<2:59:40,  8.89it/s]\u001b[A\n",
      "  4%|▍         | 4183/100000 [07:37<3:13:23,  8.26it/s]\u001b[A\n",
      "  4%|▍         | 4185/100000 [07:37<2:53:26,  9.21it/s]\u001b[A\n",
      "  4%|▍         | 4187/100000 [07:37<2:46:27,  9.59it/s]\u001b[A\n",
      "  4%|▍         | 4189/100000 [07:37<2:42:13,  9.84it/s]\u001b[A\n",
      "  4%|▍         | 4191/100000 [07:38<2:38:58, 10.04it/s]\u001b[A\n",
      "  4%|▍         | 4193/100000 [07:38<2:37:33, 10.13it/s]\u001b[A\n",
      "  4%|▍         | 4195/100000 [07:38<2:36:17, 10.22it/s]\u001b[A\n",
      "  4%|▍         | 4197/100000 [07:38<2:30:53, 10.58it/s]\u001b[A\n",
      "  4%|▍         | 4199/100000 [07:38<2:22:07, 11.23it/s]\u001b[A\n",
      "  4%|▍         | 4201/100000 [07:38<2:16:26, 11.70it/s]\u001b[A\n",
      "  4%|▍         | 4203/100000 [07:39<2:22:53, 11.17it/s]\u001b[A\n",
      "  4%|▍         | 4205/100000 [07:39<2:29:26, 10.68it/s]\u001b[A\n",
      "  4%|▍         | 4207/100000 [07:39<2:33:43, 10.39it/s]\u001b[A\n",
      "  4%|▍         | 4209/100000 [07:39<2:22:23, 11.21it/s]\u001b[A\n",
      "  4%|▍         | 4211/100000 [07:39<2:10:36, 12.22it/s]\u001b[A\n",
      "  4%|▍         | 4213/100000 [07:39<1:59:53, 13.32it/s]\u001b[A\n",
      "  4%|▍         | 4215/100000 [07:40<1:53:34, 14.06it/s]\u001b[A\n",
      "  4%|▍         | 4217/100000 [07:40<2:10:11, 12.26it/s]\u001b[A\n",
      "  4%|▍         | 4219/100000 [07:40<2:23:34, 11.12it/s]\u001b[A\n",
      "  4%|▍         | 4221/100000 [07:40<2:32:05, 10.50it/s]\u001b[A\n",
      "  4%|▍         | 4223/100000 [07:40<2:30:18, 10.62it/s]\u001b[A\n",
      "  4%|▍         | 4225/100000 [07:41<2:29:40, 10.66it/s]\u001b[A\n",
      "  4%|▍         | 4227/100000 [07:41<2:36:41, 10.19it/s]\u001b[A\n",
      "  4%|▍         | 4229/100000 [07:41<2:38:06, 10.10it/s]\u001b[A\n",
      "  4%|▍         | 4231/100000 [07:41<2:37:11, 10.15it/s]\u001b[A\n",
      "  4%|▍         | 4233/100000 [07:41<2:53:58,  9.17it/s]\u001b[A\n",
      "  4%|▍         | 4234/100000 [07:42<3:08:47,  8.45it/s]\u001b[A\n",
      "  4%|▍         | 4235/100000 [07:42<3:07:51,  8.50it/s]\u001b[A\n",
      "  4%|▍         | 4236/100000 [07:42<3:11:00,  8.36it/s]\u001b[A\n",
      "  4%|▍         | 4237/100000 [07:42<3:04:15,  8.66it/s]\u001b[A\n",
      "  4%|▍         | 4238/100000 [07:42<3:05:20,  8.61it/s]\u001b[A\n",
      "  4%|▍         | 4239/100000 [07:42<3:00:51,  8.82it/s]\u001b[A\n",
      "  4%|▍         | 4241/100000 [07:42<2:41:48,  9.86it/s]\u001b[A\n",
      "  4%|▍         | 4243/100000 [07:42<2:29:11, 10.70it/s]\u001b[A\n",
      "  4%|▍         | 4245/100000 [07:43<2:32:16, 10.48it/s]\u001b[A\n",
      "  4%|▍         | 4247/100000 [07:43<2:30:38, 10.59it/s]\u001b[A\n",
      "  4%|▍         | 4249/100000 [07:43<2:33:08, 10.42it/s]\u001b[A\n",
      "  4%|▍         | 4251/100000 [07:43<2:37:46, 10.11it/s]\u001b[A\n",
      "  4%|▍         | 4253/100000 [07:43<2:21:57, 11.24it/s]\u001b[A\n",
      "  4%|▍         | 4255/100000 [07:44<2:41:20,  9.89it/s]\u001b[A\n",
      "  4%|▍         | 4257/100000 [07:44<2:49:20,  9.42it/s]\u001b[A\n",
      "  4%|▍         | 4258/100000 [07:44<3:05:56,  8.58it/s]\u001b[A\n",
      "  4%|▍         | 4259/100000 [07:44<3:15:28,  8.16it/s]\u001b[A\n",
      "  4%|▍         | 4260/100000 [07:44<3:26:36,  7.72it/s]\u001b[A\n",
      "  4%|▍         | 4261/100000 [07:44<3:30:18,  7.59it/s]\u001b[A\n",
      "  4%|▍         | 4262/100000 [07:45<3:21:18,  7.93it/s]\u001b[A\n",
      "  4%|▍         | 4263/100000 [07:45<3:10:34,  8.37it/s]\u001b[A\n",
      "  4%|▍         | 4264/100000 [07:45<3:48:20,  6.99it/s]\u001b[A\n",
      "  4%|▍         | 4265/100000 [07:45<3:34:53,  7.43it/s]\u001b[A\n",
      "  4%|▍         | 4266/100000 [07:45<3:21:30,  7.92it/s]\u001b[A\n",
      "  4%|▍         | 4267/100000 [07:45<3:09:22,  8.43it/s]\u001b[A\n",
      "  4%|▍         | 4268/100000 [07:45<3:15:25,  8.16it/s]\u001b[A\n",
      "  4%|▍         | 4269/100000 [07:45<3:11:39,  8.32it/s]\u001b[A\n",
      "  4%|▍         | 4270/100000 [07:46<3:17:57,  8.06it/s]\u001b[A\n",
      "  4%|▍         | 4271/100000 [07:46<4:03:06,  6.56it/s]\u001b[A\n",
      "  4%|▍         | 4272/100000 [07:46<4:02:15,  6.59it/s]\u001b[A\n",
      "  4%|▍         | 4274/100000 [07:46<3:22:41,  7.87it/s]\u001b[A\n",
      "  4%|▍         | 4275/100000 [07:46<3:19:53,  7.98it/s]\u001b[A\n",
      "  4%|▍         | 4276/100000 [07:46<3:09:41,  8.41it/s]\u001b[A\n",
      "  4%|▍         | 4277/100000 [07:46<3:58:27,  6.69it/s]\u001b[A\n",
      "  4%|▍         | 4278/100000 [07:47<3:53:14,  6.84it/s]\u001b[A\n",
      "  4%|▍         | 4279/100000 [07:47<3:43:18,  7.14it/s]\u001b[A\n",
      "  4%|▍         | 4281/100000 [07:47<3:18:48,  8.02it/s]\u001b[A\n",
      "  4%|▍         | 4282/100000 [07:47<3:19:56,  7.98it/s]\u001b[A\n",
      "  4%|▍         | 4283/100000 [07:47<3:13:52,  8.23it/s]\u001b[A\n",
      "  4%|▍         | 4284/100000 [07:47<3:30:23,  7.58it/s]\u001b[A\n",
      "  4%|▍         | 4285/100000 [07:47<3:15:36,  8.16it/s]\u001b[A\n",
      "  4%|▍         | 4286/100000 [07:48<3:14:25,  8.20it/s]\u001b[A\n",
      "  4%|▍         | 4287/100000 [07:48<3:12:59,  8.27it/s]\u001b[A\n",
      "  4%|▍         | 4288/100000 [07:48<3:07:59,  8.49it/s]\u001b[A\n",
      "  4%|▍         | 4289/100000 [07:48<3:04:10,  8.66it/s]\u001b[A\n",
      "  4%|▍         | 4290/100000 [07:48<3:12:22,  8.29it/s]\u001b[A\n",
      "  4%|▍         | 4291/100000 [07:48<3:02:34,  8.74it/s]\u001b[A\n",
      "  4%|▍         | 4293/100000 [07:48<2:39:37,  9.99it/s]\u001b[A\n",
      "  4%|▍         | 4295/100000 [07:48<2:29:02, 10.70it/s]\u001b[A\n",
      "  4%|▍         | 4297/100000 [07:49<2:23:45, 11.10it/s]\u001b[A\n",
      "  4%|▍         | 4299/100000 [07:49<2:13:14, 11.97it/s]\u001b[A\n",
      "  4%|▍         | 4301/100000 [07:49<2:21:42, 11.26it/s]\u001b[A\n",
      "  4%|▍         | 4303/100000 [07:49<2:32:31, 10.46it/s]\u001b[A\n",
      "  4%|▍         | 4305/100000 [07:49<2:32:56, 10.43it/s]\u001b[A\n",
      "  4%|▍         | 4307/100000 [07:49<2:28:29, 10.74it/s]\u001b[A\n",
      "  4%|▍         | 4309/100000 [07:50<2:30:30, 10.60it/s]\u001b[A\n",
      "  4%|▍         | 4311/100000 [07:50<2:21:19, 11.28it/s]\u001b[A\n",
      "  4%|▍         | 4313/100000 [07:50<2:31:47, 10.51it/s]\u001b[A\n",
      "  4%|▍         | 4315/100000 [07:50<2:21:43, 11.25it/s]\u001b[A\n",
      "  4%|▍         | 4317/100000 [07:50<2:10:47, 12.19it/s]\u001b[A\n",
      "  4%|▍         | 4319/100000 [07:50<2:13:27, 11.95it/s]\u001b[A\n",
      "  4%|▍         | 4321/100000 [07:51<2:20:13, 11.37it/s]\u001b[A\n",
      "  4%|▍         | 4323/100000 [07:51<2:16:41, 11.67it/s]\u001b[A\n",
      "  4%|▍         | 4325/100000 [07:51<2:20:45, 11.33it/s]\u001b[A\n",
      "  4%|▍         | 4327/100000 [07:51<2:13:45, 11.92it/s]\u001b[A\n",
      "  4%|▍         | 4329/100000 [07:51<2:28:49, 10.71it/s]\u001b[A\n",
      "  4%|▍         | 4331/100000 [07:52<2:21:18, 11.28it/s]\u001b[A\n",
      "  4%|▍         | 4333/100000 [07:52<2:17:23, 11.61it/s]\u001b[A\n",
      "  4%|▍         | 4335/100000 [07:52<2:20:32, 11.35it/s]\u001b[A\n",
      "  4%|▍         | 4337/100000 [07:52<2:17:16, 11.62it/s]\u001b[A\n",
      "  4%|▍         | 4339/100000 [07:52<2:25:29, 10.96it/s]\u001b[A\n",
      "  4%|▍         | 4341/100000 [07:53<2:33:49, 10.36it/s]\u001b[A\n",
      "  4%|▍         | 4343/100000 [07:53<2:25:55, 10.92it/s]\u001b[A\n",
      "  4%|▍         | 4345/100000 [07:53<2:17:13, 11.62it/s]\u001b[A\n",
      "  4%|▍         | 4347/100000 [07:53<2:09:21, 12.32it/s]\u001b[A\n",
      "  4%|▍         | 4349/100000 [07:53<2:06:55, 12.56it/s]\u001b[A\n",
      "  4%|▍         | 4351/100000 [07:53<2:05:16, 12.72it/s]\u001b[A\n",
      "  4%|▍         | 4353/100000 [07:53<2:02:13, 13.04it/s]\u001b[A\n",
      "  4%|▍         | 4355/100000 [07:54<1:58:37, 13.44it/s]\u001b[A\n",
      "  4%|▍         | 4357/100000 [07:54<2:00:12, 13.26it/s]\u001b[A\n",
      "  4%|▍         | 4359/100000 [07:54<2:07:48, 12.47it/s]\u001b[A\n",
      "  4%|▍         | 4361/100000 [07:54<2:16:14, 11.70it/s]\u001b[A\n",
      "  4%|▍         | 4363/100000 [07:54<2:15:00, 11.81it/s]\u001b[A\n",
      "  4%|▍         | 4365/100000 [07:54<2:25:27, 10.96it/s]\u001b[A\n",
      "  4%|▍         | 4367/100000 [07:55<2:21:03, 11.30it/s]\u001b[A\n",
      "  4%|▍         | 4369/100000 [07:55<2:26:09, 10.90it/s]\u001b[A\n",
      "  4%|▍         | 4371/100000 [07:55<2:34:50, 10.29it/s]\u001b[A\n",
      "  4%|▍         | 4373/100000 [07:55<2:27:05, 10.84it/s]\u001b[A\n",
      "  4%|▍         | 4375/100000 [07:55<2:32:41, 10.44it/s]\u001b[A\n",
      "  4%|▍         | 4377/100000 [07:56<2:36:24, 10.19it/s]\u001b[A\n",
      "  4%|▍         | 4379/100000 [07:56<2:42:03,  9.83it/s]\u001b[A\n",
      "  4%|▍         | 4380/100000 [07:56<3:05:43,  8.58it/s]\u001b[A\n",
      "  4%|▍         | 4381/100000 [07:56<3:20:29,  7.95it/s]\u001b[A\n",
      "  4%|▍         | 4382/100000 [07:56<3:43:55,  7.12it/s]\u001b[A\n",
      "  4%|▍         | 4383/100000 [07:56<3:33:21,  7.47it/s]\u001b[A\n",
      "  4%|▍         | 4384/100000 [07:57<3:23:13,  7.84it/s]\u001b[A\n",
      "  4%|▍         | 4385/100000 [07:57<3:20:01,  7.97it/s]\u001b[A\n",
      "  4%|▍         | 4386/100000 [07:57<3:23:31,  7.83it/s]\u001b[A\n",
      "  4%|▍         | 4388/100000 [07:57<2:58:42,  8.92it/s]\u001b[A\n",
      "  4%|▍         | 4389/100000 [07:57<2:55:58,  9.06it/s]\u001b[A\n",
      "  4%|▍         | 4390/100000 [07:57<2:52:40,  9.23it/s]\u001b[A\n",
      "  4%|▍         | 4392/100000 [07:57<2:37:58, 10.09it/s]\u001b[A\n",
      "  4%|▍         | 4394/100000 [07:57<2:27:04, 10.83it/s]\u001b[A\n"
     ]
    },
    {
     "name": "stderr",
     "output_type": "stream",
     "text": [
      "  4%|▍         | 4396/100000 [07:58<2:59:35,  8.87it/s]\u001b[A\n",
      "  4%|▍         | 4397/100000 [07:58<3:02:40,  8.72it/s]\u001b[A\n",
      "  4%|▍         | 4399/100000 [07:58<2:42:28,  9.81it/s]\u001b[A\n",
      "  4%|▍         | 4401/100000 [07:58<2:39:59,  9.96it/s]\u001b[A\n",
      "  4%|▍         | 4403/100000 [07:59<2:53:28,  9.18it/s]\u001b[A\n",
      "  4%|▍         | 4404/100000 [07:59<2:58:44,  8.91it/s]\u001b[A\n",
      "  4%|▍         | 4405/100000 [07:59<3:02:10,  8.75it/s]\u001b[A\n",
      "  4%|▍         | 4406/100000 [07:59<3:26:40,  7.71it/s]\u001b[A\n",
      "  4%|▍         | 4407/100000 [07:59<3:22:30,  7.87it/s]\u001b[A\n",
      "  4%|▍         | 4408/100000 [07:59<3:11:58,  8.30it/s]\u001b[A\n",
      "  4%|▍         | 4410/100000 [07:59<2:49:01,  9.43it/s]\u001b[A\n",
      "  4%|▍         | 4412/100000 [07:59<2:33:11, 10.40it/s]\u001b[A\n",
      "  4%|▍         | 4414/100000 [08:00<2:39:24,  9.99it/s]\u001b[A\n",
      "  4%|▍         | 4416/100000 [08:00<2:28:51, 10.70it/s]\u001b[A\n",
      "  4%|▍         | 4418/100000 [08:00<2:20:11, 11.36it/s]\u001b[A\n",
      "  4%|▍         | 4420/100000 [08:00<2:14:17, 11.86it/s]\u001b[A\n",
      "  4%|▍         | 4422/100000 [08:00<2:09:34, 12.29it/s]\u001b[A\n",
      "  4%|▍         | 4424/100000 [08:00<2:20:21, 11.35it/s]\u001b[A\n",
      "  4%|▍         | 4426/100000 [08:01<2:12:08, 12.05it/s]\u001b[A\n",
      "  4%|▍         | 4428/100000 [08:01<2:25:00, 10.98it/s]\u001b[A\n",
      "  4%|▍         | 4430/100000 [08:01<2:20:57, 11.30it/s]\u001b[A\n",
      "  4%|▍         | 4432/100000 [08:01<2:12:03, 12.06it/s]\u001b[A\n",
      "  4%|▍         | 4434/100000 [08:01<2:22:58, 11.14it/s]\u001b[A\n",
      "  4%|▍         | 4436/100000 [08:02<2:46:17,  9.58it/s]\u001b[A\n",
      "  4%|▍         | 4438/100000 [08:02<2:38:58, 10.02it/s]\u001b[A\n",
      "  4%|▍         | 4440/100000 [08:02<2:25:22, 10.96it/s]\u001b[A\n",
      "  4%|▍         | 4442/100000 [08:02<2:29:02, 10.69it/s]\u001b[A\n",
      "  4%|▍         | 4444/100000 [08:02<2:32:33, 10.44it/s]\u001b[A\n",
      "  4%|▍         | 4446/100000 [08:03<2:36:36, 10.17it/s]\u001b[A\n",
      "  4%|▍         | 4448/100000 [08:03<2:43:35,  9.74it/s]\u001b[A\n",
      "  4%|▍         | 4449/100000 [08:03<3:10:44,  8.35it/s]\u001b[A\n",
      "  4%|▍         | 4450/100000 [08:03<3:09:24,  8.41it/s]\u001b[A\n",
      "  4%|▍         | 4452/100000 [08:03<2:50:20,  9.35it/s]\u001b[A\n",
      "  4%|▍         | 4454/100000 [08:03<2:34:08, 10.33it/s]\u001b[A\n",
      "  4%|▍         | 4456/100000 [08:04<2:45:54,  9.60it/s]\u001b[A\n",
      "  4%|▍         | 4458/100000 [08:04<2:42:46,  9.78it/s]\u001b[A"
     ]
    }
   ],
   "source": [
    "for i in trange(100000):\n",
    "    batch_actions = agent.sample_actions(agent.step(batch_states))\n",
    "    batch_next_states, batch_rewards, batch_done, _ = env_batch.step(batch_actions)\n",
    "\n",
    "    feed_dict = {\n",
    "        states_ph: batch_states,\n",
    "        actions_ph: batch_actions,\n",
    "        next_states_ph: batch_next_states,\n",
    "        rewards_ph: batch_rewards,\n",
    "        is_done_ph: batch_done,\n",
    "    }\n",
    "    batch_states = batch_next_states\n",
    "\n",
    "    _, ent_t = sess.run([train_step, entropy], feed_dict)\n",
    "    entropy_history.append(np.mean(ent_t))\n",
    "\n",
    "    if i % 500 == 0:\n",
    "        if i % 2500 == 0:\n",
    "            rewards_history.append(np.mean(evaluate(agent, env, n_games=3)))\n",
    "            if rewards_history[-1] >= 50:\n",
    "                print(\"Your agent has earned the yellow belt\")\n",
    "\n",
    "        clear_output(True)\n",
    "        plt.figure(figsize=[8, 4])\n",
    "        plt.subplot(1, 2, 1)\n",
    "        plt.plot(rewards_history, label='rewards')\n",
    "        plt.plot(ewma(np.array(rewards_history), span=10), marker='.', label='rewards ewma@10')\n",
    "        plt.title(\"Session rewards\")\n",
    "        plt.grid()\n",
    "        plt.legend()\n",
    "\n",
    "        plt.subplot(1, 2, 2)\n",
    "        plt.plot(entropy_history, label='entropy')\n",
    "        plt.plot(ewma(np.array(entropy_history), span=1000), label='entropy ewma@1000')\n",
    "        plt.title(\"Policy entropy\")\n",
    "        plt.grid()\n",
    "        plt.legend()\n",
    "        plt.show()"
   ]
  },
  {
   "cell_type": "markdown",
   "metadata": {},
   "source": [
    "Relax and grab some refreshments while your agent is locked in an infinite loop of violence and death.\n",
    "\n",
    "__How to interpret plots:__\n",
    "\n",
    "The session reward is the easy thing: it should in general go up over time, but it's okay if it fluctuates ~~like crazy~~. It's also OK if it reward doesn't increase substantially before some 10k initial steps. However, if reward reaches zero and doesn't seem to get up over 2-3 evaluations, there's something wrong happening.\n",
    "\n",
    "\n",
    "Since we use a policy-based method, we also keep track of __policy entropy__ - the same one you used as a regularizer. The only important thing about it is that your entropy shouldn't drop too low (`< 0.1`) before your agent gets the yellow belt. Or at least it can drop there, but _it shouldn't stay there for long_.\n",
    "\n",
    "If it does, the culprit is likely:\n",
    "* Some bug in entropy computation. Remember that it is $ - \\sum p(a_i) \\cdot log p(a_i) $\n",
    "* Your agent architecture converges too fast. Increase entropy coefficient in actor loss. \n",
    "* Gradient explosion - just [clip gradients](https://stackoverflow.com/a/43486487) and maybe use a smaller network\n",
    "* Us. Or TF developers. Or aliens. Or lizardfolk. Contact us on forums before it's too late!\n",
    "\n",
    "If you're debugging, just run `logits, values = agent.step(batch_states)` and manually look into logits and values. This will reveal the problem 9 times out of 10: you'll likely see some NaNs or insanely large numbers or zeros. Try to catch the moment when this happens for the first time and investigate from there."
   ]
  },
  {
   "cell_type": "markdown",
   "metadata": {},
   "source": [
    "### \"Final\" evaluation"
   ]
  },
  {
   "cell_type": "code",
   "execution_count": null,
   "metadata": {
    "collapsed": true
   },
   "outputs": [],
   "source": [
    "env_monitor = gym.wrappers.Monitor(env, directory=\"kungfu_videos\", force=True)\n",
    "final_rewards = evaluate(agent, env_monitor, n_games=20)\n",
    "env_monitor.close()\n",
    "print(\"Final mean reward:\", np.mean(final_rewards))\n",
    "\n",
    "video_names = list(filter(lambda s: s.endswith(\".mp4\"), os.listdir(\"./kungfu_videos/\")))"
   ]
  },
  {
   "cell_type": "code",
   "execution_count": null,
   "metadata": {
    "collapsed": true
   },
   "outputs": [],
   "source": [
    "HTML(\"\"\"\n",
    "<video width=\"640\" height=\"480\" controls>\n",
    "  <source src=\"{}\" type=\"video/mp4\">\n",
    "</video>\n",
    "\"\"\".format(\"./kungfu_videos/\"+video_names[-1])) "
   ]
  },
  {
   "cell_type": "code",
   "execution_count": null,
   "metadata": {
    "collapsed": true
   },
   "outputs": [],
   "source": [
    "HTML(\"\"\"\n",
    "<video width=\"640\" height=\"480\" controls>\n",
    "  <source src=\"{}\" type=\"video/mp4\">\n",
    "</video>\n",
    "\"\"\".format(\"./kungfu_videos/\" + video_names[-2]))  # try other indices"
   ]
  },
  {
   "cell_type": "code",
   "execution_count": null,
   "metadata": {
    "collapsed": true
   },
   "outputs": [],
   "source": [
    "# if you don't see videos, just navigate to ./kungfu_videos and download .mp4 files from there."
   ]
  },
  {
   "cell_type": "code",
   "execution_count": null,
   "metadata": {
    "collapsed": true
   },
   "outputs": [],
   "source": [
    "from submit import submit_kungfu\n",
    "env = make_env()\n",
    "submit_kungfu(agent, env, evaluate, <EMAIL>, <TOKEN>)"
   ]
  },
  {
   "cell_type": "markdown",
   "metadata": {},
   "source": [
    "```\n",
    "\n",
    "```\n",
    "```\n",
    "\n",
    "```\n",
    "```\n",
    "\n",
    "```\n",
    "```\n",
    "\n",
    "```\n",
    "```\n",
    "\n",
    "```\n",
    "```\n",
    "\n",
    "```\n",
    "```\n",
    "\n",
    "```\n",
    "```\n",
    "\n",
    "```\n"
   ]
  },
  {
   "cell_type": "markdown",
   "metadata": {},
   "source": [
    "### Now what?\n",
    "Well, 5k reward is [just the beginning](https://www.buzzfeed.com/mattjayyoung/what-the-color-of-your-karate-belt-actually-means-lg3g). Can you get past 200? With recurrent neural network memory, chances are you can even beat 400!\n",
    "\n",
    "* Try n-step advantage and \"lambda\"-advantage (aka GAE) - see [this article](https://arxiv.org/abs/1506.02438)\n",
    " * This change should improve early convergence a lot\n",
    "* Try recurrent neural network \n",
    " * RNN memory will slow things down initially, but in will reach better final reward at this game\n",
    "* Implement asynchronuous version\n",
    " * Remember [A3C](https://arxiv.org/abs/1602.01783)? The first \"A\" stands for asynchronuous. It means there are several parallel actor-learners out there.\n",
    " * You can write custom code for synchronization, but we recommend using [redis](https://redis.io/)\n",
    "   * You can store full parameter set in redis, along with any other metadate\n",
    "   * Here's a _quick_ way to (de)serialize parameters for redis\n",
    "   ```\n",
    "   import joblib\n",
    "   from six import BytesIO\n",
    "```\n",
    "```\n",
    "   def dumps(data):\n",
    "        \"converts whatever to string\"\n",
    "        s = BytesIO()\n",
    "        joblib.dump(data,s)\n",
    "        return s.getvalue()\n",
    "``` \n",
    "```\n",
    "    def loads(string):\n",
    "        \"converts string to whatever was dumps'ed in it\"\n",
    "        return joblib.load(BytesIO(string))\n",
    "```"
   ]
  }
 ],
 "metadata": {
  "anaconda-cloud": {},
  "kernelspec": {
   "display_name": "Python 3",
   "language": "python",
   "name": "python3"
  },
  "language_info": {
   "codemirror_mode": {
    "name": "ipython",
    "version": 3
   },
   "file_extension": ".py",
   "mimetype": "text/x-python",
   "name": "python",
   "nbconvert_exporter": "python",
   "pygments_lexer": "ipython3",
   "version": "3.6.8"
  }
 },
 "nbformat": 4,
 "nbformat_minor": 1
}
